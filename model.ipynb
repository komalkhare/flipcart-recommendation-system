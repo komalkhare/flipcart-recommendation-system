{
 "cells": [
  {
   "cell_type": "code",
   "execution_count": 1,
   "metadata": {},
   "outputs": [],
   "source": [
    "import pandas as pd\n",
    "import pandas as pd\n",
    "import ast"
   ]
  },
  {
   "cell_type": "code",
   "execution_count": 2,
   "metadata": {},
   "outputs": [],
   "source": [
    "data= pd.read_csv(\"flipkart_com-ecommerce_sample.csv\")"
   ]
  },
  {
   "cell_type": "code",
   "execution_count": 3,
   "metadata": {},
   "outputs": [],
   "source": [
    "# Combine relevant columns for recommendation\n",
    "data['product_category_tree'] = data['product_category_tree'].apply(lambda x: ' '.join(ast.literal_eval(x)) if isinstance(x, str) else '')\n",
    "data['combined_features'] = data['product_name'].astype(str) + ' ' + \\\n",
    "                            data['description'].astype(str) + ' ' + \\\n",
    "                            data['product_category_tree'].astype(str)\n"
   ]
  },
  {
   "cell_type": "code",
   "execution_count": 4,
   "metadata": {},
   "outputs": [
    {
     "name": "stdout",
     "output_type": "stream",
     "text": [
      "                            product_name  \\\n",
      "0    Alisha Solid Women's Cycling Shorts   \n",
      "1    FabHomeDecor Fabric Double Sofa Bed   \n",
      "2                             AW Bellies   \n",
      "3    Alisha Solid Women's Cycling Shorts   \n",
      "4  Sicons All Purpose Arnica Dog Shampoo   \n",
      "\n",
      "                                   combined_features  \n",
      "0  Alisha Solid Women's Cycling Shorts Key Featur...  \n",
      "1  FabHomeDecor Fabric Double Sofa Bed FabHomeDec...  \n",
      "2  AW Bellies Key Features of AW Bellies Sandals ...  \n",
      "3  Alisha Solid Women's Cycling Shorts Key Featur...  \n",
      "4  Sicons All Purpose Arnica Dog Shampoo Specific...  \n"
     ]
    }
   ],
   "source": [
    "# Fill missing values\n",
    "data['combined_features'] = data['combined_features'].fillna('')\n",
    "\n",
    "# Display a sample\n",
    "print(data[['product_name', 'combined_features']].head())"
   ]
  },
  {
   "cell_type": "code",
   "execution_count": 5,
   "metadata": {},
   "outputs": [],
   "source": [
    "from sklearn.feature_extraction.text import TfidfVectorizer\n",
    "from sklearn.metrics.pairwise import cosine_similarity\n"
   ]
  },
  {
   "cell_type": "code",
   "execution_count": 6,
   "metadata": {},
   "outputs": [],
   "source": [
    "# Vectorize combined features\n",
    "tfidf = TfidfVectorizer(stop_words='english')\n",
    "tfidf_matrix = tfidf.fit_transform(data['combined_features'])"
   ]
  },
  {
   "cell_type": "code",
   "execution_count": 7,
   "metadata": {},
   "outputs": [],
   "source": [
    "# Calculate cosine similarity\n",
    "cosine_sim = cosine_similarity(tfidf_matrix, tfidf_matrix)\n"
   ]
  },
  {
   "cell_type": "code",
   "execution_count": 9,
   "metadata": {},
   "outputs": [],
   "source": [
    "# Function to recommend products\n",
    "def recommend_products(keyword, data, cosine_sim, top_n=5):\n",
    "    matching_indices = data[data['combined_features'].str.contains(keyword, case=False, na=False)].index\n",
    "\n",
    "    if len(matching_indices) == 0:\n",
    "        return [\"No products found for the given keyword.\"]\n",
    "    \n",
    "    idx = matching_indices[0]\n",
    "    sim_scores = list(enumerate(cosine_sim[idx]))\n",
    "    sim_scores = sorted(sim_scores, key=lambda x: x[1], reverse=True)\n",
    "\n",
    "    # Get top N similar products\n",
    "    top_indices = [i[0] for i in sim_scores[1:top_n+1]]\n",
    "    return data.iloc[top_indices][['product_name', 'product_url']]\n"
   ]
  },
  {
   "cell_type": "code",
   "execution_count": 10,
   "metadata": {},
   "outputs": [
    {
     "name": "stdout",
     "output_type": "stream",
     "text": [
      "Top Recommendations:\n",
      "                                 product_name  \\\n",
      "7603      o.h.m Solid Men's Black Track Pants   \n",
      "10488        Finger's Solid Men's Track Pants   \n",
      "8070   TeeSort Solid Women's Grey Track Pants   \n",
      "10492      Quiksilver Solid Men's Track Pants   \n",
      "1419           TAMBAS Solid Men's Track Pants   \n",
      "\n",
      "                                             product_url  \n",
      "7603   http://www.flipkart.com/o-h-m-solid-men-s-blac...  \n",
      "10488  http://www.flipkart.com/finger-s-solid-men-s-t...  \n",
      "8070   http://www.flipkart.com/teesort-solid-women-s-...  \n",
      "10492  http://www.flipkart.com/quiksilver-solid-men-s...  \n",
      "1419   http://www.flipkart.com/tambas-solid-men-s-tra...  \n"
     ]
    }
   ],
   "source": [
    "# Test recommendation function\n",
    "keyword = \"pants\"\n",
    "recommendations = recommend_products(keyword, data, cosine_sim)\n",
    "print(\"Top Recommendations:\")\n",
    "print(recommendations)"
   ]
  },
  {
   "cell_type": "code",
   "execution_count": 11,
   "metadata": {},
   "outputs": [],
   "source": [
    "import pickle\n",
    "# Save the similarity matrix\n",
    "with open('cosine_sim.pkl', 'wb') as f:\n",
    "    pickle.dump(cosine_sim, f)\n"
   ]
  }
 ],
 "metadata": {
  "kernelspec": {
   "display_name": "base",
   "language": "python",
   "name": "python3"
  },
  "language_info": {
   "codemirror_mode": {
    "name": "ipython",
    "version": 3
   },
   "file_extension": ".py",
   "mimetype": "text/x-python",
   "name": "python",
   "nbconvert_exporter": "python",
   "pygments_lexer": "ipython3",
   "version": "3.12.4"
  }
 },
 "nbformat": 4,
 "nbformat_minor": 2
}
